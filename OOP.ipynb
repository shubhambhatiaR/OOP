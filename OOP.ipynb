{
  "nbformat": 4,
  "nbformat_minor": 0,
  "metadata": {
    "colab": {
      "provenance": []
    },
    "kernelspec": {
      "name": "python3",
      "display_name": "Python 3"
    },
    "language_info": {
      "name": "python"
    }
  },
  "cells": [
    {
      "cell_type": "code",
      "execution_count": null,
      "metadata": {
        "id": "hT-00iHZ_5yy"
      },
      "outputs": [],
      "source": []
    },
    {
      "cell_type": "markdown",
      "source": [
        "1. What is Object-Oriented Programming (OOP)\n",
        " - Object-Oriented Programming (OOP) is a programming paradigm based on the concept of objects, which contain data (attributes) and methods (functions). It uses key principles like encapsulation, inheritance, polymorphism, and abstraction to organize and structure code for better reusability, scalability, and maintainability\n",
        "\n",
        "2. What is a class in OOP\n",
        " - In Object-Oriented Programming (OOP), a class is a blueprint or template for creating objects. It defines the attributes (data) and methods (functions) that the objects created from the class will have.\n",
        "  - For example, a Car class might have attributes like color and speed, and methods like drive() and brake().\n",
        "\n",
        "  3. What is an object in OOP\n",
        "   - An object in OOP is an instance of a class. It contains real values for the attributes and can use the methods defined in the class. Objects represent real-world entities in a program.\n",
        "\n",
        "   4.  What is the difference between abstraction and encapsulation\n",
        "    - Abstraction hides unnecessary details and shows only the essential features.\n",
        "    - Encapsulation hides the internal data and allows access through methods\n",
        "\n",
        "  5.  What are dunder methods in Python\n",
        " - Dunder methods in Python (short for “double underscore” methods) are special methods with names that start and end with double underscores, like __init__, __str__, and __len__. They are used to define the behavior of objects with built-in functions and operators.\n",
        "\n",
        "6. Explain the concept of inheritance in OOP\n",
        " - Inheritance in OOP is a concept where a child class (or subclass) inherits attributes and methods from a parent class (or superclass). It allows code reusability and helps create a hierarchical relationship between classes\n",
        "\n",
        " 7. What is polymorphism in OOP\n",
        "  - Polymorphism in OOP means the ability of different objects to respond to the same method in different ways. It allows one interface to be used for different data types or classes\n",
        "\n",
        "  8. How is encapsulation achieved in Python\n",
        "   - Encapsulation in Python is achieved by using access modifiers:\n",
        "\n",
        "  -  Prefixing attributes with a single underscore _ (protected) or double underscore __ (private)\n",
        "\n",
        "  -  Accessing data through getter and setter methods to control access.\n",
        "\n",
        "  9.  What is a constructor in Python\n",
        "   - A constructor in Python is the __init__() method that initializes a new object when it is created.\n",
        "\n",
        "10. What are class and static methods in Python\n",
        " - Class methods take cls as the first parameter and can access or modify the class state.\n",
        "\n",
        " - Static methods don’t take self or cls and act like regular functions inside a class.\n",
        "\n",
        " 11.  What is method overloading in Python\n",
        "  - Python does not support traditional method overloading (multiple methods with the same name but different parameters). Instead, you can achieve similar behavior by using default arguments or handling different parameter types inside a single method.\n",
        "\n",
        "  12. What is method overriding in OOP\n",
        "   - Method overriding is when a subclass provides its own version of a method already defined in its parent class to change or extend its behavior.\n",
        "\n",
        "   13. What is a property decorator in Python\n",
        "    - The @property decorator in Python allows you to define a method that can be accessed like an attribute, enabling controlled access to private variables.\n",
        "\n",
        "    14. Why is polymorphism important in OOP\n",
        "   - Polymorphism is important because it allows different objects to be treated through a common interface, making code more flexible and easier to extend.\n",
        "\n",
        "   15. What is an abstract class in Python\n",
        "    - An abstract class in Python is a class that cannot be instantiated and usually contains one or more abstract methods that must be implemented by its subclasses.\n",
        "\n",
        "  16.  What are the advantages of OOP\n",
        "     - Advantages of OOP:\n",
        "\n",
        " - Modularity: Code is organized into objects.\n",
        "\n",
        " - Reusability: Classes can be reused through inheritance.\n",
        "\n",
        " - Scalability: Easier to manage large programs.\n",
        "\n",
        " - Maintainability: Easier to update and debug.\n",
        "\n",
        " - Encapsulation: Protects data by hiding details.\n",
        "\n",
        " 17. What is the difference between a class variable and an instance variable\n",
        "  - Class variable is shared by all instances of the class.\n",
        "\n",
        " - Instance variable is unique to each object (instance) of the class.\n",
        "\n",
        " 18. What is multiple inheritance in Python\n",
        "  - Multiple inheritance in Python is when a class inherits from more than one parent class, gaining attributes and methods from all of them.\n",
        "\n",
        "  19.  Explain the purpose of ‘’__str__’ and ‘__repr__’ ‘ methods in Python\n",
        "\n",
        "   - __str__: Returns a user-friendly string representation of an object (used by print()).\n",
        "\n",
        " - __repr__: Returns an official string representation meant for developers, useful for debugging (should ideally be unambiguous).\n",
        "\n",
        "20. What is the significance of the ‘super()’ function in Python\n",
        " - The super() function lets a subclass call methods from its parent class, enabling reuse of parent behavior and supporting proper inheritance, especially in multiple inheritance scenarios\n",
        "\n",
        " 21. What is the significance of the __del__ method in Python\n",
        "  - The __del__ method in Python is a destructor that is called when an object is about to be destroyed, used to clean up resources like closing files or releasing memory.\n",
        "\n",
        "  22.  What is the difference between @staticmethod and @classmethod in Python\n",
        "   - @staticmethod: Defines a method that doesn’t access the class or instance; behaves like a regular function inside a class.\n",
        "   - @classmethod: Defines a method that takes the class (cls) as the first argument and can access or modify class state.\n",
        "\n",
        "   23. How does polymorphism work in Python with inheritance\n",
        "    - In Python, polymorphism with inheritance lets a subclass override a parent class method, so when you call that method on different objects, each responds in its own way. This allows the same method call to work differently depending on the object’s class.\n",
        "\n",
        "    24. What is method chaining in Python OOP\n",
        "     - Method chaining in Python OOP is calling multiple methods on the same object in a single statement, where each method returns the object itself.\n",
        "\n",
        "     25. What is the purpose of the __call__ method in Python?\n",
        "      - The __call__ method allows an object to be called like a function. When defined, you can use obj() syntax to execute custom behavior.\n",
        "\n",
        "\n",
        "\n",
        "      "
      ],
      "metadata": {
        "id": "JK80mkthDqWw"
      }
    },
    {
      "cell_type": "code",
      "source": [],
      "metadata": {
        "id": "A5p96rQBJVjW"
      },
      "execution_count": null,
      "outputs": []
    },
    {
      "cell_type": "markdown",
      "source": [
        "                                                Practical\n"
      ],
      "metadata": {
        "id": "qBTNqZq5JWaR"
      }
    },
    {
      "cell_type": "code",
      "source": [
        "#1 Create a parent class Animal with a method speak() that prints a generic message. Create a child class Dog that overrides the speak() method to print \"Bark!\".\n",
        "class Animal:\n",
        "    def speak(self):\n",
        "        print(\"This animal makes a sound.\")\n",
        "\n",
        "class Dog(Animal):\n",
        "    def speak(self):\n",
        "        print(\"Bark!\")\n",
        "a = Animal ()\n",
        "a.speak()"
      ],
      "metadata": {
        "colab": {
          "base_uri": "https://localhost:8080/"
        },
        "id": "SG_U1yeXJmKR",
        "outputId": "4a30445d-9f53-47e5-f32d-b2a77c2b720b"
      },
      "execution_count": 2,
      "outputs": [
        {
          "output_type": "stream",
          "name": "stdout",
          "text": [
            "This animal makes a sound.\n"
          ]
        }
      ]
    },
    {
      "cell_type": "code",
      "source": [
        "#2 Write a program to create an abstract class Shape with a method area(). Derive classes Circle and Rectangle from it and implement the area() method in both.\n",
        "from abc import ABC, abstractmethod\n",
        "import math\n",
        "\n",
        "class Shape(ABC):\n",
        "    @abstractmethod\n",
        "    def area(self):\n",
        "        pass\n",
        "\n",
        "class Circle(Shape):\n",
        "    def __init__(self, radius):\n",
        "        self.radius = radius\n",
        "\n",
        "    def area(self):\n",
        "        return math.pi * self.radius ** 2\n",
        "\n",
        "class Rectangle(Shape):\n",
        "    def __init__(self, width, height):\n",
        "        self.width = width\n",
        "        self.height = height\n",
        "\n",
        "    def area(self):\n",
        "        return self.width * self.height\n"
      ],
      "metadata": {
        "id": "dBbT4dZ0KDi8"
      },
      "execution_count": 3,
      "outputs": []
    },
    {
      "cell_type": "code",
      "source": [
        "# 3 Implement a multi-level inheritance scenario where a class Vehicle has an attribute type. Derive a class Car and further derive a class ElectricCar that adds a battery attribute.\n",
        "class Vehicle:\n",
        "    def __init__(self, type):\n",
        "        self.type = type\n",
        "\n",
        "class Car(Vehicle):\n",
        "    def __init__(self, type, brand):\n",
        "        super().__init__(type)\n",
        "        self.brand = brand\n",
        "\n",
        "class ElectricCar(Car):\n",
        "    def __init__(self, type, brand, battery):\n",
        "        super().__init__(type, brand)\n",
        "        self.battery = battery\n"
      ],
      "metadata": {
        "id": "27O0AeXhKdTB"
      },
      "execution_count": 4,
      "outputs": []
    },
    {
      "cell_type": "code",
      "source": [
        "# 4Demonstrate polymorphism by creating a base class Bird with a method fly(). Create two derived classes Sparrow and Penguin that override the fly() method.\n",
        "class Bird:\n",
        "    def fly(self):\n",
        "        print(\"Some birds can fly.\")\n",
        "\n",
        "class Sparrow(Bird):\n",
        "    def fly(self):\n",
        "        print(\"Sparrow can fly.\")\n",
        "\n",
        "class Penguin(Bird):\n",
        "    def fly(self):\n",
        "        print(\"Penguins can't fly.\")\n"
      ],
      "metadata": {
        "id": "uu52Hw08Km9z"
      },
      "execution_count": 5,
      "outputs": []
    },
    {
      "cell_type": "code",
      "source": [
        "#5 Write a program to demonstrate encapsulation by creating a class BankAccount with private attributes balance and methods to deposit, withdraw, and check balance.\n",
        "class BankAccount:\n",
        "    def __init__(self, initial_balance=0):\n",
        "        self.__balance = initial_balance  # private attribute\n",
        "\n",
        "    def deposit(self, amount):\n",
        "        if amount > 0:\n",
        "            self.__balance += amount\n",
        "            print(f\"Deposited: {amount}\")\n",
        "        else:\n",
        "            print(\"Deposit amount must be positive.\")\n",
        "\n",
        "    def withdraw(self, amount):\n",
        "        if 0 < amount <= self.__balance:\n",
        "            self.__balance -= amount\n",
        "            print(f\"Withdrawn: {amount}\")\n",
        "        else:\n",
        "            print(\"Insufficient balance or invalid amount.\")\n",
        "\n",
        "    def get_balance(self):\n",
        "        return self.__balance\n"
      ],
      "metadata": {
        "id": "dOdBUeO1KzgR"
      },
      "execution_count": 6,
      "outputs": []
    },
    {
      "cell_type": "code",
      "source": [
        "#6 Demonstrate runtime polymorphism using a method play() in a base class Instrument. Derive classes Guitar and Piano that implement their own version of play().\n",
        "class Instrument:\n",
        "    def play(self):\n",
        "        print(\"Playing an instrument.\")\n",
        "\n",
        "class Guitar(Instrument):\n",
        "    def play(self):\n",
        "        print(\"Playing the guitar.\")\n",
        "\n",
        "class Piano(Instrument):\n",
        "    def play(self):\n",
        "        print(\"Playing the piano.\")\n"
      ],
      "metadata": {
        "id": "p7-fEHEaK9rS"
      },
      "execution_count": 7,
      "outputs": []
    },
    {
      "cell_type": "code",
      "source": [
        "#7 Create a class MathOperations with a class method add_numbers() to add two numbers and a static method subtract_numbers() to subtract two numbers.\n",
        "class MathOperations:\n",
        "    @classmethod\n",
        "    def add_numbers(cls, a, b):\n",
        "        return a + b\n",
        "\n",
        "    @staticmethod\n",
        "    def subtract_numbers(a, b):\n",
        "        return a - b\n"
      ],
      "metadata": {
        "id": "J4iwp3UeLG2z"
      },
      "execution_count": 8,
      "outputs": []
    },
    {
      "cell_type": "code",
      "source": [
        "# 8 Implement a class Person with a class method to count the total number of persons created.\n",
        "class Person:\n",
        "    count = 0  # class variable to track count\n",
        "\n",
        "    def __init__(self, name):\n",
        "        self.name = name\n",
        "        Person.count += 1\n",
        "\n",
        "    @classmethod\n",
        "    def get_count(cls):\n",
        "        return cls.count\n"
      ],
      "metadata": {
        "id": "I8IMK5GZLSnm"
      },
      "execution_count": 9,
      "outputs": []
    },
    {
      "cell_type": "code",
      "source": [
        "#9 Write a class Fraction with attributes numerator and denominator. Override the str method to display the fraction as \"numerator/denominator\"\n",
        "class Fraction:\n",
        "    def __init__(self, numerator, denominator):\n",
        "        self.numerator = numerator\n",
        "        self.denominator = denominator\n",
        "\n",
        "    def __str__(self):\n",
        "        return f\"{self.numerator}/{self.denominator}\"\n"
      ],
      "metadata": {
        "id": "z3P65L_QLob0"
      },
      "execution_count": 10,
      "outputs": []
    },
    {
      "cell_type": "code",
      "source": [
        "#10 Demonstrate operator overloading by creating a class Vector and overriding the add method to add two vectors.\n",
        "class Vector:\n",
        "    def __init__(self, x, y):\n",
        "        self.x = x\n",
        "        self.y = y\n",
        "\n",
        "    def __add__(self, other):\n",
        "        return Vector(self.x + other.x, self.y + other.y)\n",
        "\n",
        "    def __str__(self):\n",
        "        return f\"({self.x}, {self.y})\"\n",
        "\n",
        "\n",
        "\n"
      ],
      "metadata": {
        "id": "ET6bBblrL0kE"
      },
      "execution_count": 11,
      "outputs": []
    },
    {
      "cell_type": "code",
      "source": [
        "#11 Create a class Person with attributes name and age. Add a method greet() that prints \"Hello, my name is {name} and I am {age} years old.\"\n",
        "class Person:\n",
        "    def __init__(self, name, age):\n",
        "        self.name = name\n",
        "        self.age = age\n",
        "\n",
        "    def greet(self):\n",
        "        print(f\"Hello, my name is {self.name} and I am {self.age} years old.\")\n"
      ],
      "metadata": {
        "id": "kPhoz4JjL9t-"
      },
      "execution_count": 12,
      "outputs": []
    },
    {
      "cell_type": "code",
      "source": [
        "#12  Implement a class Student with attributes name and grades. Create a method average_grade() to compute the average of the grades\n",
        "class Student:\n",
        "    def __init__(self, name, grades):\n",
        "        self.name = name\n",
        "        self.grades = grades  # list of numbers\n",
        "\n",
        "    def average_grade(self):\n",
        "        if not self.grades:\n",
        "            return 0\n",
        "        return sum(self.grades) / len(self.grades)\n"
      ],
      "metadata": {
        "id": "WTcF731MMUnL"
      },
      "execution_count": 13,
      "outputs": []
    },
    {
      "cell_type": "code",
      "source": [
        "#13 Create a class Rectangle with methods set_dimensions() to set the dimensions and area() to calculate the area.\n",
        "class Rectangle:\n",
        "    def __init__(self):\n",
        "        self.width = 0\n",
        "        self.height = 0\n",
        "\n",
        "    def set_dimensions(self, width, height):\n",
        "        self.width = width\n",
        "        self.height = height\n",
        "\n",
        "    def area(self):\n",
        "        return self.width * self.height\n"
      ],
      "metadata": {
        "id": "mGNzAO5oM613"
      },
      "execution_count": 14,
      "outputs": []
    },
    {
      "cell_type": "code",
      "source": [
        "#14  Create a class Employee with a method calculate_salary() that computes the salary based on hours worked and hourly rate. Create a derived class Manager that adds a bonus to the salary.\n",
        "class Employee:\n",
        "    def __init__(self, hours_worked, hourly_rate):\n",
        "        self.hours_worked = hours_worked\n",
        "        self.hourly_rate = hourly_rate\n",
        "\n",
        "    def calculate_salary(self):\n",
        "        return self.hours_worked * self.hourly_rate\n",
        "\n",
        "class Manager(Employee):\n",
        "    def __init__(self, hours_worked, hourly_rate, bonus):\n",
        "        super().__init__(hours_worked, hourly_rate)\n",
        "        self.bonus = bonus\n",
        "\n",
        "    def calculate_salary(self):\n",
        "        base_salary = super().calculate_salary()\n",
        "        return base_salary + self.bonus\n"
      ],
      "metadata": {
        "id": "DXtz4OPRNQnK"
      },
      "execution_count": 15,
      "outputs": []
    },
    {
      "cell_type": "code",
      "source": [
        "#15 Create a class Product with attributes name, price, and quantity. Implement a method total_price() that calculates the total price of the product.\n",
        "class Product:\n",
        "    def __init__(self, name, price, quantity):\n",
        "        self.name = name\n",
        "        self.price = price\n",
        "        self.quantity = quantity\n",
        "\n",
        "    def total_price(self):\n",
        "        return self.price * self.quantity\n"
      ],
      "metadata": {
        "id": "VpAO1hWaNaxH"
      },
      "execution_count": 16,
      "outputs": []
    },
    {
      "cell_type": "code",
      "source": [
        "# 16  Create a class Animal with an abstract method sound(). Create two derived classes Cow and Sheep that implement the sound() method.\n",
        "from abc import ABC, abstractmethod\n",
        "\n",
        "class Animal(ABC):\n",
        "    @abstractmethod\n",
        "    def sound(self):\n",
        "        pass\n",
        "\n",
        "class Cow(Animal):\n",
        "    def sound(self):\n",
        "        print(\"Moo\")\n",
        "\n",
        "class Sheep(Animal):\n",
        "    def sound(self):\n",
        "        print(\"Baa\")\n"
      ],
      "metadata": {
        "id": "ZEU3ZJjoNiur"
      },
      "execution_count": 17,
      "outputs": []
    },
    {
      "cell_type": "code",
      "source": [
        "#17 Create a class Book with attributes title, author, and year_published. Add a method get_book_info() that returns a formatted string with the book's details.\n",
        "class Book:\n",
        "    def __init__(self, title, author, year_published):\n",
        "        self.title = title\n",
        "        self.author = author\n",
        "        self.year_published = year_published\n",
        "\n",
        "    def get_book_info(self):\n",
        "        return f\"'{self.title}' by {self.author}, published in {self.year_published}\"\n"
      ],
      "metadata": {
        "id": "EqapM9aYN0vX"
      },
      "execution_count": 18,
      "outputs": []
    },
    {
      "cell_type": "code",
      "source": [
        "#18 Create a class House with attributes address and price. Create a derived class Mansion that adds an attribute number_of_rooms\n",
        "class House:\n",
        "    def __init__(self, address, price):\n",
        "        self.address = address\n",
        "        self.price = price\n",
        "\n",
        "class Mansion(House):\n",
        "    def __init__(self, address, price, number_of_rooms):\n",
        "        super().__init__(address, price)\n",
        "        self.number_of_rooms = number_of_rooms\n"
      ],
      "metadata": {
        "id": "LkOx_DqsN8k_"
      },
      "execution_count": 20,
      "outputs": []
    },
    {
      "cell_type": "code",
      "source": [],
      "metadata": {
        "id": "egy-ZbinOC3E"
      },
      "execution_count": null,
      "outputs": []
    }
  ]
}